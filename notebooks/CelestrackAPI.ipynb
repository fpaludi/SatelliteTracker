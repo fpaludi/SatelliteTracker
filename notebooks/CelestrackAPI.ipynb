{
 "cells": [
  {
   "cell_type": "markdown",
   "id": "5c667676-1f61-489f-9c4d-ff843b009028",
   "metadata": {},
   "source": [
    "# Satellite TLE Data"
   ]
  },
  {
   "cell_type": "code",
   "execution_count": 14,
   "id": "f98e5fb6-e266-401f-b28b-4fa70ee170ee",
   "metadata": {},
   "outputs": [],
   "source": [
    "import requests"
   ]
  },
  {
   "cell_type": "code",
   "execution_count": 15,
   "id": "d6a7568b-bb74-4207-a10a-90165bd8ea4d",
   "metadata": {},
   "outputs": [],
   "source": [
    "response = requests.get(\"https://www.celestrak.com/NORAD/elements/active.txt\")"
   ]
  },
  {
   "cell_type": "code",
   "execution_count": 16,
   "id": "88e6e4e6-dd1f-4bb0-a5af-e48158135343",
   "metadata": {},
   "outputs": [
    {
     "data": {
      "text/plain": [
       "200"
      ]
     },
     "execution_count": 16,
     "metadata": {},
     "output_type": "execute_result"
    }
   ],
   "source": [
    "response.status_code"
   ]
  },
  {
   "cell_type": "code",
   "execution_count": 36,
   "id": "0a311fb8-34ea-40f3-8d5d-0261aa2e1c03",
   "metadata": {},
   "outputs": [],
   "source": [
    "lines = [x.strip().replace(\"\\t\", \" \") for x in response.content.decode(\"utf-8\").split(\"\\n\")]"
   ]
  },
  {
   "cell_type": "code",
   "execution_count": 37,
   "id": "ec6dfec6-7d3f-4fea-aee4-184dc4e8de5c",
   "metadata": {},
   "outputs": [
    {
     "data": {
      "text/plain": [
       "['CALSPHERE 1',\n",
       " '1 00900U 64063C   21099.82338969  .00000207  00000-0  21217-3 0  9992',\n",
       " '2 00900  90.1654  33.2774 0024840 245.7706 197.2238 13.73510522811136',\n",
       " 'CALSPHERE 2',\n",
       " '1 00902U 64063E   21099.84011740 -.00000004  00000-0 -19469-4 0  9995',\n",
       " '2 00902  90.1779  36.0741 0017411 332.4036  87.0220 13.52693848600152',\n",
       " 'LCS 1',\n",
       " '1 01361U 65034C   21099.81741022  .00000016  00000-0  10211-2 0  9999',\n",
       " '2 01361  32.1464 354.8840 0010206 140.9317 219.1919  9.89298825 22285',\n",
       " 'TEMPSAT 1']"
      ]
     },
     "execution_count": 37,
     "metadata": {},
     "output_type": "execute_result"
    }
   ],
   "source": [
    "lines[:10]"
   ]
  },
  {
   "cell_type": "markdown",
   "id": "d346112d-3f57-4a95-939f-3402d97029e8",
   "metadata": {},
   "source": [
    "# Satellite Factory"
   ]
  },
  {
   "cell_type": "code",
   "execution_count": 38,
   "id": "b547e408-11e1-48c0-a32a-626a39572115",
   "metadata": {},
   "outputs": [],
   "source": [
    "from typing import List"
   ]
  },
  {
   "cell_type": "code",
   "execution_count": 62,
   "id": "c6688f4f-1353-4920-ace9-e01a5317a640",
   "metadata": {},
   "outputs": [],
   "source": [
    "class Satellite:\n",
    "    def __init__(self, name: str, satellite_id: str, launch_year: int, tle_1: str, tle_2: str):\n",
    "        self._name = name\n",
    "        self._satellite_id = satellite_id,\n",
    "        self._launch_year = launch_year\n",
    "        self._tle_1 = tle_1 \n",
    "        self._tle_2 = tle_2\n",
    "    \n",
    "    def get_tles(self) -> List[str]:\n",
    "        return [self._tle_1, self._tle_2]\n"
   ]
  },
  {
   "cell_type": "code",
   "execution_count": 63,
   "id": "71e2170f-6a3b-4d81-86de-143332a1faf6",
   "metadata": {},
   "outputs": [],
   "source": [
    "class SatelliteFactory:\n",
    "    _CATALLOG_ID = slice(2, 6)\n",
    "    _LAUNCH_YEAR = slice(11, 13)\n",
    "    \n",
    "    @classmethod\n",
    "    def build_satellite(cls, satellite_name: str, tle_lines = List[str]) -> Satellite:\n",
    "        tle_1, tle_2 = tle_lines\n",
    "        satellite_id = tle_1[cls._CATALLOG_ID]\n",
    "        launch_year  = int(tle_1[cls._LAUNCH_YEAR])\n",
    "        year_offet = 2000 if launch_year <= 56 else 1900\n",
    "        launch_year = launch_year + year_offet\n",
    "        \n",
    "        satellite = Satellite(\n",
    "            name=satellite_name,\n",
    "            satellite_id=satellite_id,\n",
    "            launch_year=launch_year,\n",
    "            tle_1=tle_1,\n",
    "            tle_2=tle_2\n",
    "        )\n",
    "        return satellite\n",
    "    "
   ]
  },
  {
   "cell_type": "markdown",
   "id": "75181336-2dfb-4886-b9a6-485a8f3e4398",
   "metadata": {},
   "source": [
    "# Orbit Estimator "
   ]
  },
  {
   "cell_type": "markdown",
   "id": "b58d5238-97b2-4b34-a39e-dc68513ceded",
   "metadata": {},
   "source": [
    "## Pass over location"
   ]
  },
  {
   "cell_type": "code",
   "execution_count": 64,
   "id": "63622f51-ac17-4a87-a711-76949198dec6",
   "metadata": {},
   "outputs": [],
   "source": [
    "ISS_idx = lines.index(\"ISS (ZARYA)\")\n",
    "iss = SatelliteFactory.build_satellite(lines[ISS_idx], lines[ISS_idx+1:ISS_idx+3])"
   ]
  },
  {
   "cell_type": "code",
   "execution_count": 65,
   "id": "277c932f-f27c-41bd-b980-e9d48988a3c0",
   "metadata": {},
   "outputs": [],
   "source": [
    "from orbit_predictor.sources import EtcTLESource\n",
    "from orbit_predictor.locations import ARG\n",
    "from orbit_predictor.sources import get_predictor_from_tle_lines"
   ]
  },
  {
   "cell_type": "code",
   "execution_count": 67,
   "id": "4928af51-3e90-4351-aeaf-2e9d16278ac8",
   "metadata": {},
   "outputs": [],
   "source": [
    "iss_predictor = get_predictor_from_tle_lines(iss.get_tles())"
   ]
  },
  {
   "cell_type": "code",
   "execution_count": 69,
   "id": "0aaaf88b-4146-4170-9977-0a1c568e3aea",
   "metadata": {},
   "outputs": [],
   "source": [
    "next_pass = iss_predictor.get_next_pass(ARG)"
   ]
  },
  {
   "cell_type": "code",
   "execution_count": 72,
   "id": "bc0ef742-7a9c-48ff-88d8-8c2c0aaca08d",
   "metadata": {},
   "outputs": [],
   "source": [
    "iss_position = iss_predictor.get_position(next_pass.aos)\n"
   ]
  },
  {
   "cell_type": "code",
   "execution_count": 73,
   "id": "c960c456-2a9c-48f5-a27e-1ee399439628",
   "metadata": {},
   "outputs": [
    {
     "data": {
      "text/plain": [
       "True"
      ]
     },
     "execution_count": 73,
     "metadata": {},
     "output_type": "execute_result"
    }
   ],
   "source": [
    "ARG.is_visible(iss_position)"
   ]
  },
  {
   "cell_type": "code",
   "execution_count": 80,
   "id": "f596dd8d-c477-45dc-aa27-69f4887dce16",
   "metadata": {},
   "outputs": [
    {
     "data": {
      "text/plain": [
       "(datetime.datetime(2021, 4, 11, 0, 32, 16, 110083),\n",
       " datetime.datetime(2021, 4, 11, 0, 41, 2, 177646))"
      ]
     },
     "execution_count": 80,
     "metadata": {},
     "output_type": "execute_result"
    }
   ],
   "source": [
    "next_pass.aos, next_pass.los"
   ]
  },
  {
   "cell_type": "markdown",
   "id": "2cb7347a-0d81-4da1-b58a-af9075d6cfd9",
   "metadata": {},
   "source": [
    "## Where it's gonna be certain date"
   ]
  },
  {
   "cell_type": "code",
   "execution_count": 82,
   "id": "3fb56a01-0f71-4f51-b658-62732713f366",
   "metadata": {},
   "outputs": [],
   "source": [
    "from datetime import datetime"
   ]
  },
  {
   "cell_type": "code",
   "execution_count": 93,
   "id": "f31e6935-f379-4386-b6e3-4fdbb0b81865",
   "metadata": {},
   "outputs": [],
   "source": [
    "position = iss_predictor.get_position(datetime(2021, 4, 11, 0, 33, 0))"
   ]
  },
  {
   "cell_type": "code",
   "execution_count": 94,
   "id": "65261fb2-8aca-4899-b453-dfc4e28ebb3e",
   "metadata": {},
   "outputs": [
    {
     "data": {
      "text/plain": [
       "Position(when_utc=datetime.datetime(2021, 4, 11, 0, 33), position_ecef=(3095.387183472304, -5852.24139133781, -1545.8305500846973), velocity_ecef=(3.6874348410761155, 3.4642209151025023, -5.751218951211528), error_estimate=None)"
      ]
     },
     "execution_count": 94,
     "metadata": {},
     "output_type": "execute_result"
    }
   ],
   "source": [
    "position"
   ]
  },
  {
   "cell_type": "code",
   "execution_count": 95,
   "id": "90686257-9aa8-4061-8a70-534f74973b2c",
   "metadata": {},
   "outputs": [
    {
     "data": {
      "text/plain": [
       "True"
      ]
     },
     "execution_count": 95,
     "metadata": {},
     "output_type": "execute_result"
    }
   ],
   "source": [
    "ARG.is_visible(position)"
   ]
  },
  {
   "cell_type": "code",
   "execution_count": 97,
   "id": "732f647b-bd7c-409a-910c-f3409989058d",
   "metadata": {},
   "outputs": [
    {
     "data": {
      "text/plain": [
       "((2374.284659096497, -4912.16282387491, -3293.516296867235),\n",
       " (-31.2884, -64.2032868, 492.96))"
      ]
     },
     "execution_count": 97,
     "metadata": {},
     "output_type": "execute_result"
    }
   ],
   "source": [
    "ARG.position_ecef, ARG.position_llh"
   ]
  },
  {
   "cell_type": "code",
   "execution_count": 101,
   "id": "d05440db-a815-4e60-b46d-e1d78559ba3a",
   "metadata": {},
   "outputs": [
    {
     "data": {
      "text/plain": [
       "'ARG'"
      ]
     },
     "execution_count": 101,
     "metadata": {},
     "output_type": "execute_result"
    }
   ],
   "source": [
    "ARG"
   ]
  },
  {
   "cell_type": "markdown",
   "id": "ed0fea72-d953-4952-a7ca-515ccbda6cf3",
   "metadata": {},
   "source": [
    "# Coordinates"
   ]
  },
  {
   "cell_type": "markdown",
   "id": "e8d91c58-5aef-47bc-8a18-cbcb62d74e22",
   "metadata": {},
   "source": [
    "## ECEF Coordinates"
   ]
  },
  {
   "cell_type": "markdown",
   "id": "552ad51f-d893-4a9e-beb3-232c62f91a1c",
   "metadata": {},
   "source": [
    "Is a geographic and Cartesian coordinate system and is sometimes known as a \"conventional terrestrial\" system.\n",
    "The point (0, 0, 0) is defined as the center of mass of Earth, hence the term geocentric coordinates. The distance from a given point of interest to the center of Earth is called the geocentric radius or geocentric distance.\n",
    "\n",
    "The z-axis extends through true north, which does not coincide with the instantaneous Earth rotational axis. The slight \"wobbling\" of the rotational axis is known as polar motion. The x-axis intersects the sphere of the earth at 0° latitude (the equator) and 0° longitude (the prime meridian which passes through Greenwich). This means that ECEF rotates with the earth, and therefore coordinates of a point fixed on the surface of the earth do not change. \n",
    "\n"
   ]
  },
  {
   "cell_type": "markdown",
   "id": "a15140f0-fe34-465c-9f9c-8c97243276a8",
   "metadata": {},
   "source": [
    "## LLH Coordinates"
   ]
  },
  {
   "cell_type": "markdown",
   "id": "ec926d37-10fe-4dd1-bc2a-a4398e87e896",
   "metadata": {},
   "source": [
    "Latitude, longitude, and height (elevation)"
   ]
  },
  {
   "cell_type": "markdown",
   "id": "f0bb27ab-ec3d-48a7-af6d-deed583c6bff",
   "metadata": {},
   "source": [
    "# Earth and satellite Plots"
   ]
  },
  {
   "cell_type": "code",
   "execution_count": 103,
   "id": "cd200804-e38e-456f-b406-2cb702555562",
   "metadata": {},
   "outputs": [
    {
     "name": "stdout",
     "output_type": "stream",
     "text": [
      "Collecting matplotlib\n",
      "  Downloading matplotlib-3.4.1-cp38-cp38-manylinux1_x86_64.whl (10.3 MB)\n",
      "\u001b[K     |████████████████████████████████| 10.3 MB 175 kB/s eta 0:00:01\n",
      "\u001b[?25hCollecting kiwisolver>=1.0.1\n",
      "  Using cached kiwisolver-1.3.1-cp38-cp38-manylinux1_x86_64.whl (1.2 MB)\n",
      "Collecting cycler>=0.10\n",
      "  Using cached cycler-0.10.0-py2.py3-none-any.whl (6.5 kB)\n",
      "Requirement already satisfied: pyparsing>=2.2.1 in /home/fpaludi/Documents/Git/SatelliteTracker/.venv/lib/python3.8/site-packages (from matplotlib) (2.4.7)\n",
      "Requirement already satisfied: numpy>=1.16 in /home/fpaludi/Documents/Git/SatelliteTracker/.venv/lib/python3.8/site-packages (from matplotlib) (1.20.2)\n",
      "Collecting pillow>=6.2.0\n",
      "  Downloading Pillow-8.2.0-cp38-cp38-manylinux1_x86_64.whl (3.0 MB)\n",
      "\u001b[K     |████████████████████████████████| 3.0 MB 127 kB/s eta 0:00:01\n",
      "\u001b[?25hRequirement already satisfied: python-dateutil>=2.7 in /home/fpaludi/Documents/Git/SatelliteTracker/.venv/lib/python3.8/site-packages (from matplotlib) (2.8.1)\n",
      "Requirement already satisfied: six in /home/fpaludi/Documents/Git/SatelliteTracker/.venv/lib/python3.8/site-packages (from cycler>=0.10->matplotlib) (1.15.0)\n",
      "Installing collected packages: pillow, kiwisolver, cycler, matplotlib\n",
      "Successfully installed cycler-0.10.0 kiwisolver-1.3.1 matplotlib-3.4.1 pillow-8.2.0\n"
     ]
    }
   ],
   "source": [
    "!pip3 install matplotlib"
   ]
  },
  {
   "cell_type": "code",
   "execution_count": 106,
   "id": "90912b3a-473f-457c-a6ae-8c18b1e958c6",
   "metadata": {},
   "outputs": [],
   "source": [
    "import matplotlib.pyplot as plt\n",
    "import numpy as np"
   ]
  },
  {
   "cell_type": "code",
   "execution_count": 116,
   "id": "2d19047d-be65-4e48-9c0e-817a770d3314",
   "metadata": {},
   "outputs": [
    {
     "data": {
      "text/plain": [
       "(-10000.0, 10000.0)"
      ]
     },
     "execution_count": 116,
     "metadata": {},
     "output_type": "execute_result"
    },
    {
     "data": {
      "image/png": "[encoded data removed]",
      "text/plain": [
       "<Figure size 432x288 with 1 Axes>"
      ]
     },
     "metadata": {
      "needs_background": "light"
     },
     "output_type": "display_data"
    }
   ],
   "source": [
    "LIMIT = 10_000\n",
    "phi = np.linspace(0, 2 * np.pi, 100)\n",
    "theta = np.linspace(0, np.pi, 100)\n",
    "re = 6378.0  #  radius of the earth in km \n",
    "xm = re * np.outer(np.cos(phi), np.sin(theta)) # + r12\n",
    "ym = re * np.outer(np.sin(phi), np.sin(theta))\n",
    "zm = re * np.outer(np.ones(np.size(phi)), np.cos(theta))\n",
    "\n",
    "fig = plt.figure()\n",
    "ax = fig.add_subplot(111, projection='3d')\n",
    "ax.plot_surface(xm, ym, zm, color=\"blue\")\n",
    "ax.set_xlim([-LIMIT, LIMIT])\n",
    "ax.set_ylim([-LIMIT, LIMIT])\n",
    "ax.set_zlim([-LIMIT, LIMIT])"
   ]
  },
  {
   "cell_type": "code",
   "execution_count": null,
   "id": "6b632305-22f8-4f7a-8f42-aaf8dcb60417",
   "metadata": {},
   "outputs": [],
   "source": []
  }
 ],
 "metadata": {
  "kernelspec": {
   "display_name": "Python 3",
   "language": "python",
   "name": "python3"
  },
  "language_info": {
   "codemirror_mode": {
    "name": "ipython",
    "version": 3
   },
   "file_extension": ".py",
   "mimetype": "text/x-python",
   "name": "python",
   "nbconvert_exporter": "python",
   "pygments_lexer": "ipython3",
   "version": "3.8.5"
  }
 },
 "nbformat": 4,
 "nbformat_minor": 5
}
